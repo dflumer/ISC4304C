{
  "nbformat": 4,
  "nbformat_minor": 0,
  "metadata": {
    "colab": {
      "name": "H1hughes.ipynb",
      "provenance": [],
      "collapsed_sections": []
    },
    "kernelspec": {
      "name": "python3",
      "display_name": "Python 3"
    }
  },
  "cells": [
    {
      "cell_type": "code",
      "metadata": {
        "colab": {
          "base_uri": "https://localhost:8080/"
        },
        "id": "wdnTKIMb7fmF",
        "outputId": "c5b8cc6e-972d-4880-dca6-b3d1f71538b6"
      },
      "source": [
        "# 1. write a command that produces this output List: [2, 4, 6, 8, 10, 12, 16]\n",
        "\n",
        "list1 = [x for x in range(2,13,2)]\n",
        "list1.extend([16])\n",
        "print(list1)"
      ],
      "execution_count": 15,
      "outputs": [
        {
          "output_type": "stream",
          "text": [
            "[2, 4, 6, 8, 10, 12, 16]\n"
          ],
          "name": "stdout"
        }
      ]
    },
    {
      "cell_type": "code",
      "metadata": {
        "colab": {
          "base_uri": "https://localhost:8080/"
        },
        "id": "blDHsVd07b7O",
        "outputId": "5a1f00fb-393b-4a99-da54-0d55904471fe"
      },
      "source": [
        "# 2. write a command that produces this output List: [201, 191, 181, 171, 161]\n",
        "\n",
        "print(list(range(201,160,-10)))"
      ],
      "execution_count": 17,
      "outputs": [
        {
          "output_type": "stream",
          "text": [
            "[201, 191, 181, 171, 161]\n"
          ],
          "name": "stdout"
        }
      ]
    },
    {
      "cell_type": "code",
      "metadata": {
        "colab": {
          "base_uri": "https://localhost:8080/"
        },
        "id": "UqamKI5l7rGW",
        "outputId": "313530c5-da0f-495b-8f3a-2681b84686be"
      },
      "source": [
        "# 3. Combine two strings and print the three strings\n",
        "\n",
        "greetings = 'Hello hi bonjour '\n",
        "print(greetings)\n",
        "\n",
        "farewells = 'Goodbye bye adios '\n",
        "print(farewells)\n",
        "\n",
        "courtesy = greetings + farewells\n",
        "print(courtesy)"
      ],
      "execution_count": 18,
      "outputs": [
        {
          "output_type": "stream",
          "text": [
            "Hello hi bonjour \n",
            "Goodbye bye adios \n",
            "Hello hi bonjour Goodbye bye adios \n"
          ],
          "name": "stdout"
        }
      ]
    },
    {
      "cell_type": "code",
      "metadata": {
        "colab": {
          "base_uri": "https://localhost:8080/"
        },
        "id": "nhJJ2qoM9aEn",
        "outputId": "61d107d8-7ed3-4378-82c2-c6e9cad85ce1"
      },
      "source": [
        "# 4. sum up 10 random numbers and present the result\n",
        "\n",
        "import random\n",
        "a = [random.uniform(1,10) for i in range(10)]\n",
        "print(a)\n",
        "\n",
        "def mysum(a):\n",
        "  return sum(a)\n",
        "g = mysum(a)\n",
        "print(g)"
      ],
      "execution_count": 19,
      "outputs": [
        {
          "output_type": "stream",
          "text": [
            "[5.518869153142528, 2.9369401036267075, 2.8758023424276153, 7.1455702485937955, 5.888889819108272, 5.952528152061809, 8.445817892011217, 4.057064698304568, 5.40712601724633, 6.27196136196197]\n",
            "54.50056978848481\n"
          ],
          "name": "stdout"
        }
      ]
    },
    {
      "cell_type": "code",
      "metadata": {
        "colab": {
          "base_uri": "https://localhost:8080/"
        },
        "id": "X-cECVVB9iRW",
        "outputId": "f91e1dcc-8b10-4414-feca-7be65bbeaa60"
      },
      "source": [
        "# 5. present the code and calculations for this math formula\n",
        "\n",
        "k1 = 10\n",
        "sum1 = 0\n",
        "for k1 in range(1, k1+1):\n",
        "    sum1 = sum1 + (1/k1)\n",
        "print(sum)\n",
        "\n",
        "k2 = 1000\n",
        "sum2 = 0\n",
        "for k2 in range(1, k2+1):\n",
        "    sum2 = sum2 + (1/k2)\n",
        "print(sum2)\n",
        "\n",
        "k3 = 10000\n",
        "sum3 = 0\n",
        "for k3 in range(1, k3+1):\n",
        "    sum3 = sum3 + (1/k3)\n",
        "print(sum3)"
      ],
      "execution_count": 25,
      "outputs": [
        {
          "output_type": "stream",
          "text": [
            "2.9289682539682538\n",
            "7.485470860550343\n",
            "9.787606036044348\n"
          ],
          "name": "stdout"
        }
      ]
    },
    {
      "cell_type": "code",
      "metadata": {
        "id": "XfQPwK8F9qHd"
      },
      "source": [
        ""
      ],
      "execution_count": null,
      "outputs": []
    }
  ]
}